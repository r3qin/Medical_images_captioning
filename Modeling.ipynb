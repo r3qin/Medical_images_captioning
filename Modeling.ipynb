{
 "cells": [
  {
   "cell_type": "code",
   "execution_count": 1,
   "id": "e2d04415",
   "metadata": {},
   "outputs": [],
   "source": [
    "import os\n",
    "import numpy as np\n",
    "import pandas as pd\n",
    "import matplotlib.pyplot as plt\n",
    "\n",
    "from PIL import Image\n",
    "from functools import reduce\n",
    "from sklearn.model_selection import train_test_split\n",
    "from sklearn.preprocessing import LabelEncoder\n",
    "from sklearn.feature_extraction.text import CountVectorizer\n",
    "\n",
    "import torch\n",
    "import torch.nn as nn\n",
    "import torch.nn.functional as F\n",
    "from torch.utils.data import DataLoader\n",
    "\n",
    "from Tokenizer import Tokenizer\n",
    "from ImageCaption import BaseModel"
   ]
  },
  {
   "cell_type": "markdown",
   "id": "7bea8752",
   "metadata": {},
   "source": [
    "# Dataset"
   ]
  },
  {
   "cell_type": "code",
   "execution_count": 2,
   "id": "9c777f14",
   "metadata": {},
   "outputs": [
    {
     "name": "stdout",
     "output_type": "stream",
     "text": [
      "(4017, 3)\n"
     ]
    },
    {
     "data": {
      "text/html": [
       "<div>\n",
       "<style scoped>\n",
       "    .dataframe tbody tr th:only-of-type {\n",
       "        vertical-align: middle;\n",
       "    }\n",
       "\n",
       "    .dataframe tbody tr th {\n",
       "        vertical-align: top;\n",
       "    }\n",
       "\n",
       "    .dataframe thead th {\n",
       "        text-align: right;\n",
       "    }\n",
       "</style>\n",
       "<table border=\"1\" class=\"dataframe\">\n",
       "  <thead>\n",
       "    <tr style=\"text-align: right;\">\n",
       "      <th></th>\n",
       "      <th>Image1</th>\n",
       "      <th>Image2</th>\n",
       "      <th>Caption</th>\n",
       "    </tr>\n",
       "  </thead>\n",
       "  <tbody>\n",
       "    <tr>\n",
       "      <th>0</th>\n",
       "      <td>CXR162_IM-0401-1001</td>\n",
       "      <td>CXR162_IM-0401-2001</td>\n",
       "      <td>normal chest</td>\n",
       "    </tr>\n",
       "    <tr>\n",
       "      <th>1</th>\n",
       "      <td>CXR1390_IM-0249-1001</td>\n",
       "      <td>CXR1390_IM-0249-2001</td>\n",
       "      <td>no evidence active disease</td>\n",
       "    </tr>\n",
       "    <tr>\n",
       "      <th>2</th>\n",
       "      <td>CXR604_IM-2193-1001</td>\n",
       "      <td>CXR604_IM-2193-2001</td>\n",
       "      <td>no evidence active disease</td>\n",
       "    </tr>\n",
       "    <tr>\n",
       "      <th>3</th>\n",
       "      <td>CXR2699_IM-1167-1001</td>\n",
       "      <td>CXR2699_IM-1167-2001</td>\n",
       "      <td>no acute cardiopulmonary disease</td>\n",
       "    </tr>\n",
       "    <tr>\n",
       "      <th>4</th>\n",
       "      <td>CXR2841_IM-1253-2001</td>\n",
       "      <td>CXR2841_IM-1253-2001</td>\n",
       "      <td>no acute cardiopulmonary disease</td>\n",
       "    </tr>\n",
       "  </tbody>\n",
       "</table>\n",
       "</div>"
      ],
      "text/plain": [
       "                 Image1                Image2  \\\n",
       "0   CXR162_IM-0401-1001   CXR162_IM-0401-2001   \n",
       "1  CXR1390_IM-0249-1001  CXR1390_IM-0249-2001   \n",
       "2   CXR604_IM-2193-1001   CXR604_IM-2193-2001   \n",
       "3  CXR2699_IM-1167-1001  CXR2699_IM-1167-2001   \n",
       "4  CXR2841_IM-1253-2001  CXR2841_IM-1253-2001   \n",
       "\n",
       "                            Caption  \n",
       "0                      normal chest  \n",
       "1        no evidence active disease  \n",
       "2        no evidence active disease  \n",
       "3  no acute cardiopulmonary disease  \n",
       "4  no acute cardiopulmonary disease  "
      ]
     },
     "execution_count": 2,
     "metadata": {},
     "output_type": "execute_result"
    }
   ],
   "source": [
    "df = pd.read_csv(\"data/processed.csv\")\n",
    "df = df[[\"Image1\", \"Image2\", \"Clean_capt\"]]\n",
    "df.columns = [\"Image1\", \"Image2\", \"Caption\"]\n",
    "print(df.shape)\n",
    "df.head()"
   ]
  },
  {
   "cell_type": "markdown",
   "id": "7c16ae45",
   "metadata": {},
   "source": [
    "## Tokenizer"
   ]
  },
  {
   "cell_type": "code",
   "execution_count": 3,
   "id": "a8361413",
   "metadata": {
    "scrolled": true
   },
   "outputs": [
    {
     "data": {
      "text/plain": [
       "3       10\n",
       "4      109\n",
       "5      469\n",
       "6     1443\n",
       "7      292\n",
       "      ... \n",
       "65       1\n",
       "66       1\n",
       "86       1\n",
       "89       1\n",
       "90       2\n",
       "Name: Caption, Length: 63, dtype: int64"
      ]
     },
     "execution_count": 3,
     "metadata": {},
     "output_type": "execute_result"
    }
   ],
   "source": [
    "tokenizer = Tokenizer()\n",
    "tokenizer.fit(reduce(lambda a, b: a+b, df.Caption.str.split()))\n",
    "cap = df.Caption.apply(lambda x: tokenizer.transform(x.split()))\n",
    "cap_len = cap.apply(len).value_counts().sort_index()\n",
    "cap_len"
   ]
  },
  {
   "cell_type": "code",
   "execution_count": 4,
   "id": "8f534cdc",
   "metadata": {},
   "outputs": [
    {
     "name": "stdout",
     "output_type": "stream",
     "text": [
      "If trimmed by length 64, 6 captions will be trimmed\n",
      "If trimmed by length 64, 0.15% of captions will be trimmed\n"
     ]
    }
   ],
   "source": [
    "LENGTH = 64\n",
    "seq_trim = cap_len[cap_len.index > LENGTH]\n",
    "print(\"If trimmed by length %d, %d captions will be trimmed\" % (LENGTH, seq_trim.sum()))\n",
    "print(\"If trimmed by length %d, %.2f%% of captions will be trimmed\" % (LENGTH, seq_trim.sum()*100/len(df)))"
   ]
  },
  {
   "cell_type": "code",
   "execution_count": 5,
   "id": "accd448c",
   "metadata": {},
   "outputs": [
    {
     "data": {
      "text/html": [
       "<div>\n",
       "<style scoped>\n",
       "    .dataframe tbody tr th:only-of-type {\n",
       "        vertical-align: middle;\n",
       "    }\n",
       "\n",
       "    .dataframe tbody tr th {\n",
       "        vertical-align: top;\n",
       "    }\n",
       "\n",
       "    .dataframe thead th {\n",
       "        text-align: right;\n",
       "    }\n",
       "</style>\n",
       "<table border=\"1\" class=\"dataframe\">\n",
       "  <thead>\n",
       "    <tr style=\"text-align: right;\">\n",
       "      <th></th>\n",
       "      <th>Image1</th>\n",
       "      <th>Image2</th>\n",
       "      <th>Caption</th>\n",
       "      <th>CaptionSeq</th>\n",
       "    </tr>\n",
       "  </thead>\n",
       "  <tbody>\n",
       "    <tr>\n",
       "      <th>0</th>\n",
       "      <td>CXR162_IM-0401-1001</td>\n",
       "      <td>CXR162_IM-0401-2001</td>\n",
       "      <td>normal chest</td>\n",
       "      <td>[0, 2, 3, 1, 1, 1, 1, 1, 1, 1, 1, 1, 1, 1, 1, ...</td>\n",
       "    </tr>\n",
       "    <tr>\n",
       "      <th>1</th>\n",
       "      <td>CXR1390_IM-0249-1001</td>\n",
       "      <td>CXR1390_IM-0249-2001</td>\n",
       "      <td>no evidence active disease</td>\n",
       "      <td>[0, 4, 5, 6, 7, 1, 1, 1, 1, 1, 1, 1, 1, 1, 1, ...</td>\n",
       "    </tr>\n",
       "    <tr>\n",
       "      <th>2</th>\n",
       "      <td>CXR604_IM-2193-1001</td>\n",
       "      <td>CXR604_IM-2193-2001</td>\n",
       "      <td>no evidence active disease</td>\n",
       "      <td>[0, 4, 5, 6, 7, 1, 1, 1, 1, 1, 1, 1, 1, 1, 1, ...</td>\n",
       "    </tr>\n",
       "    <tr>\n",
       "      <th>3</th>\n",
       "      <td>CXR2699_IM-1167-1001</td>\n",
       "      <td>CXR2699_IM-1167-2001</td>\n",
       "      <td>no acute cardiopulmonary disease</td>\n",
       "      <td>[0, 4, 8, 9, 7, 1, 1, 1, 1, 1, 1, 1, 1, 1, 1, ...</td>\n",
       "    </tr>\n",
       "    <tr>\n",
       "      <th>4</th>\n",
       "      <td>CXR2841_IM-1253-2001</td>\n",
       "      <td>CXR2841_IM-1253-2001</td>\n",
       "      <td>no acute cardiopulmonary disease</td>\n",
       "      <td>[0, 4, 8, 9, 7, 1, 1, 1, 1, 1, 1, 1, 1, 1, 1, ...</td>\n",
       "    </tr>\n",
       "  </tbody>\n",
       "</table>\n",
       "</div>"
      ],
      "text/plain": [
       "                 Image1                Image2  \\\n",
       "0   CXR162_IM-0401-1001   CXR162_IM-0401-2001   \n",
       "1  CXR1390_IM-0249-1001  CXR1390_IM-0249-2001   \n",
       "2   CXR604_IM-2193-1001   CXR604_IM-2193-2001   \n",
       "3  CXR2699_IM-1167-1001  CXR2699_IM-1167-2001   \n",
       "4  CXR2841_IM-1253-2001  CXR2841_IM-1253-2001   \n",
       "\n",
       "                            Caption  \\\n",
       "0                      normal chest   \n",
       "1        no evidence active disease   \n",
       "2        no evidence active disease   \n",
       "3  no acute cardiopulmonary disease   \n",
       "4  no acute cardiopulmonary disease   \n",
       "\n",
       "                                          CaptionSeq  \n",
       "0  [0, 2, 3, 1, 1, 1, 1, 1, 1, 1, 1, 1, 1, 1, 1, ...  \n",
       "1  [0, 4, 5, 6, 7, 1, 1, 1, 1, 1, 1, 1, 1, 1, 1, ...  \n",
       "2  [0, 4, 5, 6, 7, 1, 1, 1, 1, 1, 1, 1, 1, 1, 1, ...  \n",
       "3  [0, 4, 8, 9, 7, 1, 1, 1, 1, 1, 1, 1, 1, 1, 1, ...  \n",
       "4  [0, 4, 8, 9, 7, 1, 1, 1, 1, 1, 1, 1, 1, 1, 1, ...  "
      ]
     },
     "execution_count": 5,
     "metadata": {},
     "output_type": "execute_result"
    }
   ],
   "source": [
    "df[\"CaptionSeq\"] = cap.apply(lambda x: x + [1] * (LENGTH - len(x)) if len(x) < LENGTH else x[:LENGTH])\n",
    "# df[\"CaptionSeq\"] = cap\n",
    "df.head()"
   ]
  },
  {
   "cell_type": "markdown",
   "id": "41f01d61",
   "metadata": {},
   "source": [
    "# Model"
   ]
  },
  {
   "cell_type": "code",
   "execution_count": 7,
   "id": "07cb0477",
   "metadata": {},
   "outputs": [
    {
     "name": "stdout",
     "output_type": "stream",
     "text": [
      "Epoch 0 Train Loss 3.9115920618398867 Validation Loss 1.8696891209658455\n",
      "Epoch 1 Train Loss 1.390457800964811 Validation Loss 1.15913185301949\n",
      "Epoch 2 Train Loss 1.0212021280283952 Validation Loss 0.9521868322409835\n",
      "Epoch 3 Train Loss 0.8608942331366278 Validation Loss 0.8162363037174823\n",
      "Epoch 4 Train Loss 0.7433702782611942 Validation Loss 0.7225157945763832\n",
      "Epoch 5 Train Loss 0.6524087444170198 Validation Loss 0.6373912937500897\n",
      "Epoch 6 Train Loss 0.5792106266935073 Validation Loss 0.5662876706497342\n",
      "Epoch 7 Train Loss 0.5163621846864472 Validation Loss 0.5095310567640791\n",
      "Epoch 8 Train Loss 0.4604043906452644 Validation Loss 0.4594923102972554\n",
      "Epoch 9 Train Loss 0.41096538920604175 Validation Loss 0.4148065532539405\n"
     ]
    }
   ],
   "source": [
    "model = BaseModel(df, \"data/Images\", LENGTH, tokenizer.vocab_size)\n",
    "model.train()"
   ]
  },
  {
   "cell_type": "code",
   "execution_count": null,
   "id": "08e1985f",
   "metadata": {},
   "outputs": [],
   "source": []
  }
 ],
 "metadata": {
  "kernelspec": {
   "display_name": "Python 3",
   "language": "python",
   "name": "python3"
  },
  "language_info": {
   "codemirror_mode": {
    "name": "ipython",
    "version": 3
   },
   "file_extension": ".py",
   "mimetype": "text/x-python",
   "name": "python",
   "nbconvert_exporter": "python",
   "pygments_lexer": "ipython3",
   "version": "3.8.10"
  }
 },
 "nbformat": 4,
 "nbformat_minor": 5
}
